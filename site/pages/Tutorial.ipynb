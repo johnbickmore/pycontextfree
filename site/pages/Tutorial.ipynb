{
 "cells": [
  {
   "cell_type": "markdown",
   "metadata": {},
   "source": [
    "# pycontextfree tutorial\n",
    "\n",
    "let's import pycontextfree:"
   ]
  },
  {
   "cell_type": "code",
   "execution_count": 1,
   "metadata": {},
   "outputs": [],
   "source": [
    "import contextfree as cf"
   ]
  },
  {
   "cell_type": "markdown",
   "metadata": {},
   "source": [
    "before you draw something you have to initialize the drawing surface.\n",
    "This is dones with `init` command"
   ]
  },
  {
   "cell_type": "code",
   "execution_count": 2,
   "metadata": {},
   "outputs": [],
   "source": [
    "cf.init(canvas_size=(200,200), background_color=\"#ffffff\")"
   ]
  },
  {
   "cell_type": "markdown",
   "metadata": {},
   "source": [
    "Let's draw someting, say a cricle: "
   ]
  },
  {
   "cell_type": "code",
   "execution_count": 3,
   "metadata": {},
   "outputs": [],
   "source": [
    "cf.circle()"
   ]
  },
  {
   "cell_type": "markdown",
   "metadata": {},
   "source": [
    "and render it as IPython image"
   ]
  },
  {
   "cell_type": "code",
   "execution_count": 4,
   "metadata": {},
   "outputs": [
    {
     "data": {
      "image/png": "[encoded data removed]",
      "text/plain": [
       "<IPython.core.display.Image object>"
      ]
     },
     "execution_count": 4,
     "metadata": {},
     "output_type": "execute_result"
    }
   ],
   "source": [
    "cf.display_ipython()"
   ]
  },
  {
   "cell_type": "markdown",
   "metadata": {},
   "source": [
    "By the way, with `init()` you can set background and foreground color as well:"
   ]
  },
  {
   "cell_type": "code",
   "execution_count": 5,
   "metadata": {},
   "outputs": [
    {
     "data": {
      "image/png": "[encoded data removed]",
      "text/plain": [
       "<IPython.core.display.Image object>"
      ]
     },
     "execution_count": 5,
     "metadata": {},
     "output_type": "execute_result"
    }
   ],
   "source": [
    "cf.init(canvas_size=(200, 200), background_color=\"#123456\", face_color=\"#11AA89\")\n",
    "cf.circle()\n",
    "cf.display_ipython()"
   ]
  },
  {
   "cell_type": "markdown",
   "metadata": {},
   "source": [
    "Other primitive shapes in contextfree including box"
   ]
  },
  {
   "cell_type": "code",
   "execution_count": 6,
   "metadata": {},
   "outputs": [
    {
     "data": {
      "image/png": "[encoded data removed]",
      "text/plain": [
       "<IPython.core.display.Image object>"
      ]
     },
     "execution_count": 6,
     "metadata": {},
     "output_type": "execute_result"
    }
   ],
   "source": [
    "cf.init(canvas_size=(200,200), background_color=\"#ffffff\")\n",
    "cf.box()\n",
    "cf.display_ipython()"
   ]
  },
  {
   "cell_type": "markdown",
   "metadata": {},
   "source": [
    "and trianlge etc"
   ]
  },
  {
   "cell_type": "code",
   "execution_count": 7,
   "metadata": {},
   "outputs": [
    {
     "data": {
      "image/png": "[encoded data removed]",
      "text/plain": [
       "<IPython.core.display.Image object>"
      ]
     },
     "execution_count": 7,
     "metadata": {},
     "output_type": "execute_result"
    }
   ],
   "source": [
    "cf.init(canvas_size=(200,200), background_color=\"#ffffff\")\n",
    "cf.triangle()\n",
    "cf.display_ipython()"
   ]
  },
  {
   "cell_type": "markdown",
   "metadata": {},
   "source": [
    "Pycontextfree comes with a set of geometric and photometric transformations. For instance, to move to the 1 unit to the right:"
   ]
  },
  {
   "cell_type": "code",
   "execution_count": 8,
   "metadata": {},
   "outputs": [
    {
     "data": {
      "image/png": "[encoded data removed]",
      "text/plain": [
       "<IPython.core.display.Image object>"
      ]
     },
     "execution_count": 8,
     "metadata": {},
     "output_type": "execute_result"
    }
   ],
   "source": [
    "cf.init(canvas_size=(200, 200), background_color=\"#ffffff\")\n",
    "cf.circle()\n",
    "with cf.translate(2, 0):\n",
    "    cf.box()\n",
    "cf.display_ipython()"
   ]
  },
  {
   "cell_type": "markdown",
   "metadata": {},
   "source": [
    "Did you notice that each elements got smaller? That is because pycontextfree is tracking the positions of the elements and resized your drawing so that everything fits into the target canvas size."
   ]
  },
  {
   "cell_type": "markdown",
   "metadata": {},
   "source": [
    "Transformations can be nested one into another. Here is an example of another usefull transformation called `scale` - as the name implies, it scales the image. "
   ]
  },
  {
   "cell_type": "code",
   "execution_count": 9,
   "metadata": {},
   "outputs": [
    {
     "data": {
      "image/png": "[encoded data removed]",
      "text/plain": [
       "<IPython.core.display.Image object>"
      ]
     },
     "execution_count": 9,
     "metadata": {},
     "output_type": "execute_result"
    }
   ],
   "source": [
    "cf.init(canvas_size=(200, 200), background_color=\"#ffffff\")\n",
    "cf.circle()\n",
    "with cf.translate(1, 0):\n",
    "    with cf.scale(0.5):\n",
    "        cf.circle()\n",
    "cf.display_ipython()"
   ]
  },
  {
   "cell_type": "code",
   "execution_count": 10,
   "metadata": {},
   "outputs": [
    {
     "data": {
      "image/png": "[encoded data removed]",
      "text/plain": [
       "<IPython.core.display.Image object>"
      ]
     },
     "execution_count": 10,
     "metadata": {},
     "output_type": "execute_result"
    }
   ],
   "source": [
    "cf.init(canvas_size=(200, 200), background_color=\"#ffffff\")\n",
    "with cf.scale(2):\n",
    "    cf.circle()\n",
    "    with cf.translate(0.5, 0):\n",
    "        with cf.color(hue=0.5, lightness=0.5, saturation=0.5, alpha=0.6):\n",
    "            cf.circle()\n",
    "cf.display_ipython()"
   ]
  },
  {
   "cell_type": "markdown",
   "metadata": {},
   "source": [
    "Now we can write recursive rules to describe more interesting shapes.\n",
    "To avoid infinite recursion, pycontextfree provides `check_limits` decorator. It will stop iteration when the element becomes smaller than one pixel in size. "
   ]
  },
  {
   "cell_type": "code",
   "execution_count": 11,
   "metadata": {},
   "outputs": [
    {
     "data": {
      "image/png": "[encoded data removed]",
      "text/plain": [
       "<IPython.core.display.Image object>"
      ]
     },
     "execution_count": 11,
     "metadata": {},
     "output_type": "execute_result"
    }
   ],
   "source": [
    "cf.init(canvas_size=(400, 200), background_color=\"#ffffff\")\n",
    "@cf.check_limits\n",
    "def infinite_circles():\n",
    "    cf.circle()\n",
    "    with cf.translate(1, 0):\n",
    "        with cf.scale(0.7):\n",
    "            infinite_circles()\n",
    "infinite_circles()\n",
    "cf.display_ipython()"
   ]
  },
  {
   "cell_type": "markdown",
   "metadata": {},
   "source": [
    "It is also possible to explicitly specify the maximal recursion depth"
   ]
  },
  {
   "cell_type": "markdown",
   "metadata": {},
   "source": [
    "Pycontextfree allows to define several versions of a rule with same name and to assign probability to each version. Probabilities do not have to sum to 1, the values will be normalized by the runtime:"
   ]
  },
  {
   "cell_type": "code",
   "execution_count": 12,
   "metadata": {},
   "outputs": [
    {
     "data": {
      "image/png": "[encoded data removed]",
      "text/plain": [
       "<IPython.core.display.Image object>"
      ]
     },
     "execution_count": 12,
     "metadata": {},
     "output_type": "execute_result"
    }
   ],
   "source": [
    "cf.init(canvas_size=(400, 400), background_color=\"#ffffff\", max_depth=40)\n",
    "@cf.rule(1)\n",
    "def random_walk():\n",
    "    cf.circle()\n",
    "    with cf.scale(0.9):\n",
    "        with cf.translate(1, 0):\n",
    "            random_walk()\n",
    "\n",
    "@cf.rule(1)\n",
    "def random_walk():\n",
    "    cf.circle()\n",
    "    with cf.scale(0.9):\n",
    "        with cf.translate(0, 1):\n",
    "            random_walk()\n",
    "random_walk()\n",
    "cf.display_ipython()"
   ]
  },
  {
   "cell_type": "markdown",
   "metadata": {},
   "source": [
    "Well, this should have covered the basics.\n",
    "\n",
    "Please look at the [gallery](http://pycontextfree.blackbird.pw/gallery/) for more inspiration or at the API reference for more technical details :)\n",
    "\n",
    "Cheers!"
   ]
  },
  {
   "cell_type": "code",
   "execution_count": null,
   "metadata": {},
   "outputs": [],
   "source": []
  },
  {
   "cell_type": "code",
   "execution_count": null,
   "metadata": {},
   "outputs": [],
   "source": []
  }
 ],
 "metadata": {
  "kernelspec": {
   "display_name": "Python 3",
   "language": "python",
   "name": "python3"
  },
  "language_info": {
   "codemirror_mode": {
    "name": "ipython",
    "version": 3
   },
   "file_extension": ".py",
   "mimetype": "text/x-python",
   "name": "python",
   "nbconvert_exporter": "python",
   "pygments_lexer": "ipython3",
   "version": "3.6.6+"
  }
 },
 "nbformat": 4,
 "nbformat_minor": 2
}
